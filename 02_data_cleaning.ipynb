{
 "cells": [
  {
   "cell_type": "code",
   "execution_count": 1,
   "metadata": {},
   "outputs": [
    {
     "name": "stdout",
     "output_type": "stream",
     "text": [
      "(2868, 28)\n"
     ]
    },
    {
     "data": {
      "text/html": [
       "<div>\n",
       "<style scoped>\n",
       "    .dataframe tbody tr th:only-of-type {\n",
       "        vertical-align: middle;\n",
       "    }\n",
       "\n",
       "    .dataframe tbody tr th {\n",
       "        vertical-align: top;\n",
       "    }\n",
       "\n",
       "    .dataframe thead th {\n",
       "        text-align: right;\n",
       "    }\n",
       "</style>\n",
       "<table border=\"1\" class=\"dataframe\">\n",
       "  <thead>\n",
       "    <tr style=\"text-align: right;\">\n",
       "      <th></th>\n",
       "      <th>QUOTE_DATE</th>\n",
       "      <th>QUOTE_TIME_HOURS</th>\n",
       "      <th>UNDERLYING_LAST</th>\n",
       "      <th>EXPIRE_DATE</th>\n",
       "      <th>DTE</th>\n",
       "      <th>STRIKE</th>\n",
       "      <th>C_IV</th>\n",
       "      <th>C_LAST</th>\n",
       "      <th>C_SIZE</th>\n",
       "      <th>C_BID</th>\n",
       "      <th>...</th>\n",
       "      <th>P_LAST</th>\n",
       "      <th>P_SIZE</th>\n",
       "      <th>P_BID</th>\n",
       "      <th>P_ASK</th>\n",
       "      <th>P_VOLUME</th>\n",
       "      <th>P_DELTA</th>\n",
       "      <th>P_GAMMA</th>\n",
       "      <th>P_VEGA</th>\n",
       "      <th>P_THETA</th>\n",
       "      <th>P_RHO</th>\n",
       "    </tr>\n",
       "  </thead>\n",
       "  <tbody>\n",
       "    <tr>\n",
       "      <th>0</th>\n",
       "      <td>2021-12-01</td>\n",
       "      <td>16.0</td>\n",
       "      <td>387.00</td>\n",
       "      <td>2022-01-03</td>\n",
       "      <td>33.0</td>\n",
       "      <td>245.0</td>\n",
       "      <td>NaN</td>\n",
       "      <td>0.0</td>\n",
       "      <td>12 x 12</td>\n",
       "      <td>141.42</td>\n",
       "      <td>...</td>\n",
       "      <td>0.00</td>\n",
       "      <td>383 x 50</td>\n",
       "      <td>0.12</td>\n",
       "      <td>0.17</td>\n",
       "      <td>NaN</td>\n",
       "      <td>-0.00633</td>\n",
       "      <td>0.00027</td>\n",
       "      <td>0.01957</td>\n",
       "      <td>-0.01724</td>\n",
       "      <td>-0.00186</td>\n",
       "    </tr>\n",
       "    <tr>\n",
       "      <th>1</th>\n",
       "      <td>2021-12-02</td>\n",
       "      <td>16.0</td>\n",
       "      <td>389.97</td>\n",
       "      <td>2022-01-03</td>\n",
       "      <td>32.0</td>\n",
       "      <td>245.0</td>\n",
       "      <td>1.04089</td>\n",
       "      <td>0.0</td>\n",
       "      <td>15 x 1</td>\n",
       "      <td>144.68</td>\n",
       "      <td>...</td>\n",
       "      <td>0.00</td>\n",
       "      <td>290 x 290</td>\n",
       "      <td>0.13</td>\n",
       "      <td>0.17</td>\n",
       "      <td>NaN</td>\n",
       "      <td>-0.00579</td>\n",
       "      <td>0.00021</td>\n",
       "      <td>0.01919</td>\n",
       "      <td>-0.01880</td>\n",
       "      <td>-0.00251</td>\n",
       "    </tr>\n",
       "    <tr>\n",
       "      <th>2</th>\n",
       "      <td>2021-12-03</td>\n",
       "      <td>16.0</td>\n",
       "      <td>383.27</td>\n",
       "      <td>2022-01-03</td>\n",
       "      <td>31.0</td>\n",
       "      <td>245.0</td>\n",
       "      <td>0.99010</td>\n",
       "      <td>0.0</td>\n",
       "      <td>17 x 17</td>\n",
       "      <td>137.91</td>\n",
       "      <td>...</td>\n",
       "      <td>0.25</td>\n",
       "      <td>137 x 666</td>\n",
       "      <td>0.18</td>\n",
       "      <td>0.23</td>\n",
       "      <td>20.0</td>\n",
       "      <td>-0.00815</td>\n",
       "      <td>0.00031</td>\n",
       "      <td>0.02490</td>\n",
       "      <td>-0.02418</td>\n",
       "      <td>-0.00267</td>\n",
       "    </tr>\n",
       "    <tr>\n",
       "      <th>3</th>\n",
       "      <td>2021-12-06</td>\n",
       "      <td>16.0</td>\n",
       "      <td>386.32</td>\n",
       "      <td>2022-01-03</td>\n",
       "      <td>28.0</td>\n",
       "      <td>245.0</td>\n",
       "      <td>1.04709</td>\n",
       "      <td>0.0</td>\n",
       "      <td>1 x 17</td>\n",
       "      <td>141.07</td>\n",
       "      <td>...</td>\n",
       "      <td>0.12</td>\n",
       "      <td>67 x 300</td>\n",
       "      <td>0.11</td>\n",
       "      <td>0.14</td>\n",
       "      <td>11.0</td>\n",
       "      <td>-0.00488</td>\n",
       "      <td>0.00021</td>\n",
       "      <td>0.01648</td>\n",
       "      <td>-0.01806</td>\n",
       "      <td>-0.00125</td>\n",
       "    </tr>\n",
       "    <tr>\n",
       "      <th>4</th>\n",
       "      <td>2021-12-07</td>\n",
       "      <td>16.0</td>\n",
       "      <td>397.87</td>\n",
       "      <td>2022-01-03</td>\n",
       "      <td>27.0</td>\n",
       "      <td>245.0</td>\n",
       "      <td>0.56943</td>\n",
       "      <td>0.0</td>\n",
       "      <td>8 x 8</td>\n",
       "      <td>152.51</td>\n",
       "      <td>...</td>\n",
       "      <td>0.12</td>\n",
       "      <td>10 x 680</td>\n",
       "      <td>0.05</td>\n",
       "      <td>0.06</td>\n",
       "      <td>0.0</td>\n",
       "      <td>-0.00279</td>\n",
       "      <td>0.00013</td>\n",
       "      <td>0.00837</td>\n",
       "      <td>-0.00895</td>\n",
       "      <td>-0.00079</td>\n",
       "    </tr>\n",
       "  </tbody>\n",
       "</table>\n",
       "<p>5 rows × 28 columns</p>\n",
       "</div>"
      ],
      "text/plain": [
       "    QUOTE_DATE  QUOTE_TIME_HOURS  UNDERLYING_LAST  EXPIRE_DATE   DTE  STRIKE  \\\n",
       "0   2021-12-01              16.0           387.00   2022-01-03  33.0   245.0   \n",
       "1   2021-12-02              16.0           389.97   2022-01-03  32.0   245.0   \n",
       "2   2021-12-03              16.0           383.27   2022-01-03  31.0   245.0   \n",
       "3   2021-12-06              16.0           386.32   2022-01-03  28.0   245.0   \n",
       "4   2021-12-07              16.0           397.87   2022-01-03  27.0   245.0   \n",
       "\n",
       "      C_IV  C_LAST    C_SIZE   C_BID  ...  P_LAST      P_SIZE  P_BID  P_ASK  \\\n",
       "0      NaN     0.0   12 x 12  141.42  ...    0.00    383 x 50   0.12   0.17   \n",
       "1  1.04089     0.0    15 x 1  144.68  ...    0.00   290 x 290   0.13   0.17   \n",
       "2  0.99010     0.0   17 x 17  137.91  ...    0.25   137 x 666   0.18   0.23   \n",
       "3  1.04709     0.0    1 x 17  141.07  ...    0.12    67 x 300   0.11   0.14   \n",
       "4  0.56943     0.0     8 x 8  152.51  ...    0.12    10 x 680   0.05   0.06   \n",
       "\n",
       "   P_VOLUME  P_DELTA  P_GAMMA   P_VEGA  P_THETA    P_RHO  \n",
       "0       NaN -0.00633  0.00027  0.01957 -0.01724 -0.00186  \n",
       "1       NaN -0.00579  0.00021  0.01919 -0.01880 -0.00251  \n",
       "2      20.0 -0.00815  0.00031  0.02490 -0.02418 -0.00267  \n",
       "3      11.0 -0.00488  0.00021  0.01648 -0.01806 -0.00125  \n",
       "4       0.0 -0.00279  0.00013  0.00837 -0.00895 -0.00079  \n",
       "\n",
       "[5 rows x 28 columns]"
      ]
     },
     "execution_count": 1,
     "metadata": {},
     "output_type": "execute_result"
    }
   ],
   "source": [
    "import pandas as pd\n",
    "import plotly.express as px\n",
    "import numpy as np\n",
    "import sys\n",
    "sys.path.append(\"../\")\n",
    "from utils.vol_surface import VolatilitySurface\n",
    "from utils.option_math import calc_forward_price\n",
    "from utils.data_cleaning import DataCleaner\n",
    "import numpy as np\n",
    "import gc\n",
    "import random\n",
    "import os \n",
    "\n",
    "SYMBOL=\"qqq\"\n",
    "MAXDATE = \"2022-09-30\"\n",
    "\n",
    "df = pd.read_csv(\"../data/processed/qqq/2022_01_03.csv\")\n",
    "\n",
    "#df.QUOTE_DATE = pd.to_datetime(df.QUOTE_DATE)\n",
    "#df = df[df.QUOTE_DATE>\"2022-01-01\"].reset_index(drop=True)\n",
    "print(df.shape)\n",
    "df.head()"
   ]
  },
  {
   "cell_type": "markdown",
   "metadata": {},
   "source": [
    "## Load Underlying Data"
   ]
  },
  {
   "cell_type": "code",
   "execution_count": 2,
   "metadata": {},
   "outputs": [],
   "source": [
    "underlying_price = pd.read_csv(\"../data/raw/qqq_underlying.csv\")\n",
    "underlying_price.columns = [\"QUOTE_DATE\",\"UNDERLYING_LAST\"]\n",
    "underlying_price.QUOTE_DATE = pd.to_datetime(underlying_price.QUOTE_DATE)"
   ]
  },
  {
   "cell_type": "markdown",
   "metadata": {},
   "source": [
    "## The Data Cleaning Class"
   ]
  },
  {
   "cell_type": "code",
   "execution_count": null,
   "metadata": {},
   "outputs": [],
   "source": [
    "cleaner = DataCleaner(underlying=underlying_price)\n",
    "df_clean = cleaner.clean_data(df,expiration=\"2022-01-03\")\n",
    "df_clean.head()"
   ]
  },
  {
   "cell_type": "markdown",
   "metadata": {},
   "source": [
    "## Cleaning Files"
   ]
  },
  {
   "cell_type": "code",
   "execution_count": 3,
   "metadata": {},
   "outputs": [],
   "source": [
    "cleaner = DataCleaner(\n",
    "    underlying=underlying_price,\n",
    "    minDTE=0,\n",
    "    maxDTE=40,\n",
    "    minMoneyness=-0.7,\n",
    "    maxMoneyness=0.7,\n",
    "    calandar=\"NYSE\",\n",
    "    r=0 # So that the European option pricer works for American options.\n",
    ")"
   ]
  },
  {
   "cell_type": "code",
   "execution_count": 4,
   "metadata": {},
   "outputs": [
    {
     "name": "stdout",
     "output_type": "stream",
     "text": [
      "Completed 0 out of 547\n",
      "Completed 10 out of 547\n",
      "Completed 20 out of 547\n"
     ]
    },
    {
     "name": "stderr",
     "output_type": "stream",
     "text": [
      "../utils/option_math.py:26: RuntimeWarning: divide by zero encountered in true_divide\n",
      "  d1 = (log(s/k)+(r+vol**2/2.)*tte)/(vol*sqrt(tte))\n",
      "../utils/option_math.py:26: RuntimeWarning: divide by zero encountered in double_scalars\n",
      "  d1 = (log(s/k)+(r+vol**2/2.)*tte)/(vol*sqrt(tte))\n",
      "../utils/opions/european.py:46: RuntimeWarning: invalid value encountered in double_scalars\n",
      "  gamma = norm.pdf(d1) / (self._s * self._vol * sqrt(self._tte))\n",
      "../utils/opions/european.py:102: RuntimeWarning: invalid value encountered in double_scalars\n",
      "  gamma = norm.pdf(d1)/(self._s*self._vol*sqrt(self._tte))\n",
      "../utils/option_math.py:26: RuntimeWarning: invalid value encountered in true_divide\n",
      "  d1 = (log(s/k)+(r+vol**2/2.)*tte)/(vol*sqrt(tte))\n"
     ]
    },
    {
     "name": "stdout",
     "output_type": "stream",
     "text": [
      "Completed 30 out of 547\n"
     ]
    },
    {
     "name": "stderr",
     "output_type": "stream",
     "text": [
      "../utils/option_math.py:26: RuntimeWarning: divide by zero encountered in true_divide\n",
      "  d1 = (log(s/k)+(r+vol**2/2.)*tte)/(vol*sqrt(tte))\n",
      "../utils/option_math.py:26: RuntimeWarning: divide by zero encountered in double_scalars\n",
      "  d1 = (log(s/k)+(r+vol**2/2.)*tte)/(vol*sqrt(tte))\n",
      "../utils/opions/european.py:46: RuntimeWarning: invalid value encountered in double_scalars\n",
      "  gamma = norm.pdf(d1) / (self._s * self._vol * sqrt(self._tte))\n",
      "../utils/opions/european.py:102: RuntimeWarning: invalid value encountered in double_scalars\n",
      "  gamma = norm.pdf(d1)/(self._s*self._vol*sqrt(self._tte))\n",
      "../utils/option_math.py:26: RuntimeWarning: divide by zero encountered in true_divide\n",
      "  d1 = (log(s/k)+(r+vol**2/2.)*tte)/(vol*sqrt(tte))\n",
      "../utils/option_math.py:26: RuntimeWarning: divide by zero encountered in double_scalars\n",
      "  d1 = (log(s/k)+(r+vol**2/2.)*tte)/(vol*sqrt(tte))\n",
      "../utils/opions/european.py:46: RuntimeWarning: invalid value encountered in double_scalars\n",
      "  gamma = norm.pdf(d1) / (self._s * self._vol * sqrt(self._tte))\n",
      "../utils/opions/european.py:102: RuntimeWarning: invalid value encountered in double_scalars\n",
      "  gamma = norm.pdf(d1)/(self._s*self._vol*sqrt(self._tte))\n",
      "../utils/option_math.py:26: RuntimeWarning: invalid value encountered in true_divide\n",
      "  d1 = (log(s/k)+(r+vol**2/2.)*tte)/(vol*sqrt(tte))\n"
     ]
    },
    {
     "name": "stdout",
     "output_type": "stream",
     "text": [
      "Completed 40 out of 547\n",
      "Completed 50 out of 547\n"
     ]
    },
    {
     "name": "stderr",
     "output_type": "stream",
     "text": [
      "../utils/option_math.py:26: RuntimeWarning: divide by zero encountered in true_divide\n",
      "  d1 = (log(s/k)+(r+vol**2/2.)*tte)/(vol*sqrt(tte))\n",
      "../utils/option_math.py:26: RuntimeWarning: divide by zero encountered in double_scalars\n",
      "  d1 = (log(s/k)+(r+vol**2/2.)*tte)/(vol*sqrt(tte))\n",
      "../utils/opions/european.py:46: RuntimeWarning: invalid value encountered in double_scalars\n",
      "  gamma = norm.pdf(d1) / (self._s * self._vol * sqrt(self._tte))\n",
      "../utils/opions/european.py:102: RuntimeWarning: invalid value encountered in double_scalars\n",
      "  gamma = norm.pdf(d1)/(self._s*self._vol*sqrt(self._tte))\n",
      "../utils/option_math.py:26: RuntimeWarning: invalid value encountered in true_divide\n",
      "  d1 = (log(s/k)+(r+vol**2/2.)*tte)/(vol*sqrt(tte))\n"
     ]
    },
    {
     "name": "stdout",
     "output_type": "stream",
     "text": [
      "Completed 60 out of 547\n",
      "Completed 70 out of 547\n"
     ]
    },
    {
     "name": "stderr",
     "output_type": "stream",
     "text": [
      "/home/balbert/Documents/devclub/BEV/venv/lib/python3.7/site-packages/scipy/interpolate/fitpack2.py:1176: UserWarning: ier=356\n",
      "  warnings.warn(message)\n",
      "../utils/option_math.py:26: RuntimeWarning: divide by zero encountered in true_divide\n",
      "  d1 = (log(s/k)+(r+vol**2/2.)*tte)/(vol*sqrt(tte))\n",
      "../utils/option_math.py:26: RuntimeWarning: divide by zero encountered in double_scalars\n",
      "  d1 = (log(s/k)+(r+vol**2/2.)*tte)/(vol*sqrt(tte))\n",
      "../utils/opions/european.py:46: RuntimeWarning: invalid value encountered in double_scalars\n",
      "  gamma = norm.pdf(d1) / (self._s * self._vol * sqrt(self._tte))\n",
      "../utils/opions/european.py:102: RuntimeWarning: invalid value encountered in double_scalars\n",
      "  gamma = norm.pdf(d1)/(self._s*self._vol*sqrt(self._tte))\n",
      "../utils/option_math.py:26: RuntimeWarning: invalid value encountered in true_divide\n",
      "  d1 = (log(s/k)+(r+vol**2/2.)*tte)/(vol*sqrt(tte))\n",
      "../utils/option_math.py:26: RuntimeWarning: divide by zero encountered in true_divide\n",
      "  d1 = (log(s/k)+(r+vol**2/2.)*tte)/(vol*sqrt(tte))\n",
      "../utils/option_math.py:26: RuntimeWarning: divide by zero encountered in double_scalars\n",
      "  d1 = (log(s/k)+(r+vol**2/2.)*tte)/(vol*sqrt(tte))\n",
      "../utils/opions/european.py:46: RuntimeWarning: invalid value encountered in double_scalars\n",
      "  gamma = norm.pdf(d1) / (self._s * self._vol * sqrt(self._tte))\n",
      "../utils/opions/european.py:102: RuntimeWarning: invalid value encountered in double_scalars\n",
      "  gamma = norm.pdf(d1)/(self._s*self._vol*sqrt(self._tte))\n",
      "../utils/option_math.py:26: RuntimeWarning: invalid value encountered in true_divide\n",
      "  d1 = (log(s/k)+(r+vol**2/2.)*tte)/(vol*sqrt(tte))\n"
     ]
    },
    {
     "name": "stdout",
     "output_type": "stream",
     "text": [
      "Completed 80 out of 547\n",
      "Completed 90 out of 547\n",
      "Completed 100 out of 547\n"
     ]
    },
    {
     "name": "stderr",
     "output_type": "stream",
     "text": [
      "../utils/option_math.py:26: RuntimeWarning: divide by zero encountered in true_divide\n",
      "  d1 = (log(s/k)+(r+vol**2/2.)*tte)/(vol*sqrt(tte))\n",
      "../utils/option_math.py:26: RuntimeWarning: divide by zero encountered in double_scalars\n",
      "  d1 = (log(s/k)+(r+vol**2/2.)*tte)/(vol*sqrt(tte))\n",
      "../utils/opions/european.py:46: RuntimeWarning: invalid value encountered in double_scalars\n",
      "  gamma = norm.pdf(d1) / (self._s * self._vol * sqrt(self._tte))\n",
      "../utils/opions/european.py:102: RuntimeWarning: invalid value encountered in double_scalars\n",
      "  gamma = norm.pdf(d1)/(self._s*self._vol*sqrt(self._tte))\n"
     ]
    },
    {
     "name": "stdout",
     "output_type": "stream",
     "text": [
      "Completed 110 out of 547\n"
     ]
    },
    {
     "name": "stderr",
     "output_type": "stream",
     "text": [
      "../utils/option_math.py:26: RuntimeWarning: divide by zero encountered in true_divide\n",
      "  d1 = (log(s/k)+(r+vol**2/2.)*tte)/(vol*sqrt(tte))\n",
      "../utils/option_math.py:26: RuntimeWarning: divide by zero encountered in double_scalars\n",
      "  d1 = (log(s/k)+(r+vol**2/2.)*tte)/(vol*sqrt(tte))\n",
      "../utils/opions/european.py:46: RuntimeWarning: invalid value encountered in double_scalars\n",
      "  gamma = norm.pdf(d1) / (self._s * self._vol * sqrt(self._tte))\n",
      "../utils/opions/european.py:102: RuntimeWarning: invalid value encountered in double_scalars\n",
      "  gamma = norm.pdf(d1)/(self._s*self._vol*sqrt(self._tte))\n"
     ]
    },
    {
     "name": "stdout",
     "output_type": "stream",
     "text": [
      "Completed 120 out of 547\n",
      "Completed 130 out of 547\n"
     ]
    },
    {
     "name": "stderr",
     "output_type": "stream",
     "text": [
      "../utils/option_math.py:26: RuntimeWarning: divide by zero encountered in true_divide\n",
      "  d1 = (log(s/k)+(r+vol**2/2.)*tte)/(vol*sqrt(tte))\n",
      "../utils/option_math.py:26: RuntimeWarning: divide by zero encountered in double_scalars\n",
      "  d1 = (log(s/k)+(r+vol**2/2.)*tte)/(vol*sqrt(tte))\n",
      "../utils/opions/european.py:102: RuntimeWarning: invalid value encountered in double_scalars\n",
      "  gamma = norm.pdf(d1)/(self._s*self._vol*sqrt(self._tte))\n"
     ]
    },
    {
     "name": "stdout",
     "output_type": "stream",
     "text": [
      "Completed 140 out of 547\n"
     ]
    },
    {
     "name": "stderr",
     "output_type": "stream",
     "text": [
      "../utils/option_math.py:26: RuntimeWarning: divide by zero encountered in true_divide\n",
      "  d1 = (log(s/k)+(r+vol**2/2.)*tte)/(vol*sqrt(tte))\n",
      "../utils/option_math.py:26: RuntimeWarning: divide by zero encountered in double_scalars\n",
      "  d1 = (log(s/k)+(r+vol**2/2.)*tte)/(vol*sqrt(tte))\n",
      "../utils/opions/european.py:46: RuntimeWarning: invalid value encountered in double_scalars\n",
      "  gamma = norm.pdf(d1) / (self._s * self._vol * sqrt(self._tte))\n",
      "../utils/opions/european.py:102: RuntimeWarning: invalid value encountered in double_scalars\n",
      "  gamma = norm.pdf(d1)/(self._s*self._vol*sqrt(self._tte))\n"
     ]
    },
    {
     "name": "stdout",
     "output_type": "stream",
     "text": [
      "Completed 150 out of 547\n",
      "Completed 170 out of 547\n",
      "Completed 180 out of 547\n",
      "Completed 190 out of 547\n"
     ]
    },
    {
     "name": "stderr",
     "output_type": "stream",
     "text": [
      "../utils/option_math.py:26: RuntimeWarning: divide by zero encountered in true_divide\n",
      "  d1 = (log(s/k)+(r+vol**2/2.)*tte)/(vol*sqrt(tte))\n",
      "../utils/option_math.py:26: RuntimeWarning: divide by zero encountered in double_scalars\n",
      "  d1 = (log(s/k)+(r+vol**2/2.)*tte)/(vol*sqrt(tte))\n",
      "../utils/opions/european.py:46: RuntimeWarning: invalid value encountered in double_scalars\n",
      "  gamma = norm.pdf(d1) / (self._s * self._vol * sqrt(self._tte))\n",
      "../utils/opions/european.py:102: RuntimeWarning: invalid value encountered in double_scalars\n",
      "  gamma = norm.pdf(d1)/(self._s*self._vol*sqrt(self._tte))\n",
      "../utils/option_math.py:26: RuntimeWarning: divide by zero encountered in true_divide\n",
      "  d1 = (log(s/k)+(r+vol**2/2.)*tte)/(vol*sqrt(tte))\n",
      "../utils/option_math.py:26: RuntimeWarning: divide by zero encountered in double_scalars\n",
      "  d1 = (log(s/k)+(r+vol**2/2.)*tte)/(vol*sqrt(tte))\n",
      "../utils/opions/european.py:46: RuntimeWarning: invalid value encountered in double_scalars\n",
      "  gamma = norm.pdf(d1) / (self._s * self._vol * sqrt(self._tte))\n",
      "../utils/opions/european.py:102: RuntimeWarning: invalid value encountered in double_scalars\n",
      "  gamma = norm.pdf(d1)/(self._s*self._vol*sqrt(self._tte))\n"
     ]
    },
    {
     "name": "stdout",
     "output_type": "stream",
     "text": [
      "Completed 200 out of 547\n",
      "Completed 210 out of 547\n",
      "Completed 220 out of 547\n"
     ]
    },
    {
     "name": "stderr",
     "output_type": "stream",
     "text": [
      "../utils/option_math.py:26: RuntimeWarning: divide by zero encountered in true_divide\n",
      "  d1 = (log(s/k)+(r+vol**2/2.)*tte)/(vol*sqrt(tte))\n",
      "../utils/option_math.py:26: RuntimeWarning: divide by zero encountered in double_scalars\n",
      "  d1 = (log(s/k)+(r+vol**2/2.)*tte)/(vol*sqrt(tte))\n",
      "../utils/opions/european.py:46: RuntimeWarning: invalid value encountered in double_scalars\n",
      "  gamma = norm.pdf(d1) / (self._s * self._vol * sqrt(self._tte))\n",
      "../utils/opions/european.py:102: RuntimeWarning: invalid value encountered in double_scalars\n",
      "  gamma = norm.pdf(d1)/(self._s*self._vol*sqrt(self._tte))\n",
      "../utils/option_math.py:26: RuntimeWarning: invalid value encountered in true_divide\n",
      "  d1 = (log(s/k)+(r+vol**2/2.)*tte)/(vol*sqrt(tte))\n"
     ]
    },
    {
     "name": "stdout",
     "output_type": "stream",
     "text": [
      "Completed 230 out of 547\n"
     ]
    },
    {
     "name": "stderr",
     "output_type": "stream",
     "text": [
      "../utils/option_math.py:26: RuntimeWarning: divide by zero encountered in true_divide\n",
      "  d1 = (log(s/k)+(r+vol**2/2.)*tte)/(vol*sqrt(tte))\n",
      "../utils/option_math.py:26: RuntimeWarning: divide by zero encountered in double_scalars\n",
      "  d1 = (log(s/k)+(r+vol**2/2.)*tte)/(vol*sqrt(tte))\n",
      "../utils/opions/european.py:102: RuntimeWarning: invalid value encountered in double_scalars\n",
      "  gamma = norm.pdf(d1)/(self._s*self._vol*sqrt(self._tte))\n",
      "../utils/opions/european.py:46: RuntimeWarning: invalid value encountered in double_scalars\n",
      "  gamma = norm.pdf(d1) / (self._s * self._vol * sqrt(self._tte))\n",
      "../utils/option_math.py:26: RuntimeWarning: divide by zero encountered in true_divide\n",
      "  d1 = (log(s/k)+(r+vol**2/2.)*tte)/(vol*sqrt(tte))\n",
      "../utils/option_math.py:26: RuntimeWarning: divide by zero encountered in double_scalars\n",
      "  d1 = (log(s/k)+(r+vol**2/2.)*tte)/(vol*sqrt(tte))\n",
      "../utils/opions/european.py:46: RuntimeWarning: invalid value encountered in double_scalars\n",
      "  gamma = norm.pdf(d1) / (self._s * self._vol * sqrt(self._tte))\n",
      "../utils/opions/european.py:102: RuntimeWarning: invalid value encountered in double_scalars\n",
      "  gamma = norm.pdf(d1)/(self._s*self._vol*sqrt(self._tte))\n",
      "../utils/option_math.py:26: RuntimeWarning: invalid value encountered in true_divide\n",
      "  d1 = (log(s/k)+(r+vol**2/2.)*tte)/(vol*sqrt(tte))\n",
      "../utils/option_math.py:26: RuntimeWarning: divide by zero encountered in true_divide\n",
      "  d1 = (log(s/k)+(r+vol**2/2.)*tte)/(vol*sqrt(tte))\n",
      "../utils/option_math.py:26: RuntimeWarning: divide by zero encountered in double_scalars\n",
      "  d1 = (log(s/k)+(r+vol**2/2.)*tte)/(vol*sqrt(tte))\n",
      "../utils/opions/european.py:102: RuntimeWarning: invalid value encountered in double_scalars\n",
      "  gamma = norm.pdf(d1)/(self._s*self._vol*sqrt(self._tte))\n",
      "../utils/opions/european.py:46: RuntimeWarning: invalid value encountered in double_scalars\n",
      "  gamma = norm.pdf(d1) / (self._s * self._vol * sqrt(self._tte))\n"
     ]
    },
    {
     "name": "stdout",
     "output_type": "stream",
     "text": [
      "Completed 240 out of 547\n",
      "Completed 250 out of 547\n"
     ]
    },
    {
     "name": "stderr",
     "output_type": "stream",
     "text": [
      "../utils/option_math.py:26: RuntimeWarning: divide by zero encountered in true_divide\n",
      "  d1 = (log(s/k)+(r+vol**2/2.)*tte)/(vol*sqrt(tte))\n",
      "../utils/option_math.py:26: RuntimeWarning: divide by zero encountered in double_scalars\n",
      "  d1 = (log(s/k)+(r+vol**2/2.)*tte)/(vol*sqrt(tte))\n",
      "../utils/opions/european.py:46: RuntimeWarning: invalid value encountered in double_scalars\n",
      "  gamma = norm.pdf(d1) / (self._s * self._vol * sqrt(self._tte))\n",
      "../utils/option_math.py:26: RuntimeWarning: invalid value encountered in true_divide\n",
      "  d1 = (log(s/k)+(r+vol**2/2.)*tte)/(vol*sqrt(tte))\n",
      "../utils/opions/european.py:102: RuntimeWarning: invalid value encountered in double_scalars\n",
      "  gamma = norm.pdf(d1)/(self._s*self._vol*sqrt(self._tte))\n"
     ]
    },
    {
     "name": "stdout",
     "output_type": "stream",
     "text": [
      "Completed 260 out of 547\n",
      "Completed 270 out of 547\n",
      "Completed 280 out of 547\n",
      "Completed 290 out of 547\n"
     ]
    },
    {
     "name": "stderr",
     "output_type": "stream",
     "text": [
      "../utils/option_math.py:26: RuntimeWarning: divide by zero encountered in true_divide\n",
      "  d1 = (log(s/k)+(r+vol**2/2.)*tte)/(vol*sqrt(tte))\n",
      "../utils/option_math.py:26: RuntimeWarning: invalid value encountered in true_divide\n",
      "  d1 = (log(s/k)+(r+vol**2/2.)*tte)/(vol*sqrt(tte))\n",
      "../utils/option_math.py:26: RuntimeWarning: divide by zero encountered in double_scalars\n",
      "  d1 = (log(s/k)+(r+vol**2/2.)*tte)/(vol*sqrt(tte))\n",
      "../utils/opions/european.py:46: RuntimeWarning: invalid value encountered in double_scalars\n",
      "  gamma = norm.pdf(d1) / (self._s * self._vol * sqrt(self._tte))\n",
      "../utils/opions/european.py:102: RuntimeWarning: invalid value encountered in double_scalars\n",
      "  gamma = norm.pdf(d1)/(self._s*self._vol*sqrt(self._tte))\n"
     ]
    },
    {
     "name": "stdout",
     "output_type": "stream",
     "text": [
      "Completed 300 out of 547\n",
      "Completed 310 out of 547\n"
     ]
    },
    {
     "name": "stderr",
     "output_type": "stream",
     "text": [
      "../utils/option_math.py:26: RuntimeWarning: divide by zero encountered in true_divide\n",
      "  d1 = (log(s/k)+(r+vol**2/2.)*tte)/(vol*sqrt(tte))\n",
      "../utils/option_math.py:26: RuntimeWarning: divide by zero encountered in double_scalars\n",
      "  d1 = (log(s/k)+(r+vol**2/2.)*tte)/(vol*sqrt(tte))\n",
      "../utils/opions/european.py:46: RuntimeWarning: invalid value encountered in double_scalars\n",
      "  gamma = norm.pdf(d1) / (self._s * self._vol * sqrt(self._tte))\n",
      "../utils/opions/european.py:102: RuntimeWarning: invalid value encountered in double_scalars\n",
      "  gamma = norm.pdf(d1)/(self._s*self._vol*sqrt(self._tte))\n",
      "../utils/option_math.py:26: RuntimeWarning: divide by zero encountered in true_divide\n",
      "  d1 = (log(s/k)+(r+vol**2/2.)*tte)/(vol*sqrt(tte))\n",
      "../utils/option_math.py:26: RuntimeWarning: divide by zero encountered in double_scalars\n",
      "  d1 = (log(s/k)+(r+vol**2/2.)*tte)/(vol*sqrt(tte))\n",
      "../utils/opions/european.py:46: RuntimeWarning: invalid value encountered in double_scalars\n",
      "  gamma = norm.pdf(d1) / (self._s * self._vol * sqrt(self._tte))\n",
      "../utils/opions/european.py:102: RuntimeWarning: invalid value encountered in double_scalars\n",
      "  gamma = norm.pdf(d1)/(self._s*self._vol*sqrt(self._tte))\n"
     ]
    },
    {
     "name": "stdout",
     "output_type": "stream",
     "text": [
      "Completed 320 out of 547\n"
     ]
    },
    {
     "name": "stderr",
     "output_type": "stream",
     "text": [
      "../utils/option_math.py:26: RuntimeWarning: divide by zero encountered in true_divide\n",
      "  d1 = (log(s/k)+(r+vol**2/2.)*tte)/(vol*sqrt(tte))\n",
      "../utils/option_math.py:26: RuntimeWarning: divide by zero encountered in double_scalars\n",
      "  d1 = (log(s/k)+(r+vol**2/2.)*tte)/(vol*sqrt(tte))\n",
      "../utils/opions/european.py:46: RuntimeWarning: invalid value encountered in double_scalars\n",
      "  gamma = norm.pdf(d1) / (self._s * self._vol * sqrt(self._tte))\n",
      "../utils/opions/european.py:102: RuntimeWarning: invalid value encountered in double_scalars\n",
      "  gamma = norm.pdf(d1)/(self._s*self._vol*sqrt(self._tte))\n",
      "../utils/option_math.py:26: RuntimeWarning: divide by zero encountered in true_divide\n",
      "  d1 = (log(s/k)+(r+vol**2/2.)*tte)/(vol*sqrt(tte))\n",
      "../utils/option_math.py:26: RuntimeWarning: invalid value encountered in true_divide\n",
      "  d1 = (log(s/k)+(r+vol**2/2.)*tte)/(vol*sqrt(tte))\n",
      "../utils/option_math.py:26: RuntimeWarning: divide by zero encountered in double_scalars\n",
      "  d1 = (log(s/k)+(r+vol**2/2.)*tte)/(vol*sqrt(tte))\n",
      "../utils/opions/european.py:46: RuntimeWarning: invalid value encountered in double_scalars\n",
      "  gamma = norm.pdf(d1) / (self._s * self._vol * sqrt(self._tte))\n",
      "../utils/opions/european.py:102: RuntimeWarning: invalid value encountered in double_scalars\n",
      "  gamma = norm.pdf(d1)/(self._s*self._vol*sqrt(self._tte))\n",
      "../utils/option_math.py:26: RuntimeWarning: divide by zero encountered in true_divide\n",
      "  d1 = (log(s/k)+(r+vol**2/2.)*tte)/(vol*sqrt(tte))\n",
      "../utils/option_math.py:26: RuntimeWarning: divide by zero encountered in double_scalars\n",
      "  d1 = (log(s/k)+(r+vol**2/2.)*tte)/(vol*sqrt(tte))\n",
      "../utils/opions/european.py:46: RuntimeWarning: invalid value encountered in double_scalars\n",
      "  gamma = norm.pdf(d1) / (self._s * self._vol * sqrt(self._tte))\n",
      "../utils/opions/european.py:102: RuntimeWarning: invalid value encountered in double_scalars\n",
      "  gamma = norm.pdf(d1)/(self._s*self._vol*sqrt(self._tte))\n",
      "../utils/option_math.py:26: RuntimeWarning: invalid value encountered in true_divide\n",
      "  d1 = (log(s/k)+(r+vol**2/2.)*tte)/(vol*sqrt(tte))\n"
     ]
    },
    {
     "name": "stdout",
     "output_type": "stream",
     "text": [
      "Completed 330 out of 547\n"
     ]
    },
    {
     "name": "stderr",
     "output_type": "stream",
     "text": [
      "../utils/option_math.py:26: RuntimeWarning: divide by zero encountered in true_divide\n",
      "  d1 = (log(s/k)+(r+vol**2/2.)*tte)/(vol*sqrt(tte))\n",
      "../utils/option_math.py:26: RuntimeWarning: divide by zero encountered in double_scalars\n",
      "  d1 = (log(s/k)+(r+vol**2/2.)*tte)/(vol*sqrt(tte))\n",
      "../utils/opions/european.py:102: RuntimeWarning: invalid value encountered in double_scalars\n",
      "  gamma = norm.pdf(d1)/(self._s*self._vol*sqrt(self._tte))\n",
      "../utils/opions/european.py:46: RuntimeWarning: invalid value encountered in double_scalars\n",
      "  gamma = norm.pdf(d1) / (self._s * self._vol * sqrt(self._tte))\n",
      "../utils/option_math.py:26: RuntimeWarning: divide by zero encountered in true_divide\n",
      "  d1 = (log(s/k)+(r+vol**2/2.)*tte)/(vol*sqrt(tte))\n",
      "../utils/option_math.py:26: RuntimeWarning: divide by zero encountered in double_scalars\n",
      "  d1 = (log(s/k)+(r+vol**2/2.)*tte)/(vol*sqrt(tte))\n",
      "../utils/opions/european.py:46: RuntimeWarning: invalid value encountered in double_scalars\n",
      "  gamma = norm.pdf(d1) / (self._s * self._vol * sqrt(self._tte))\n",
      "../utils/opions/european.py:102: RuntimeWarning: invalid value encountered in double_scalars\n",
      "  gamma = norm.pdf(d1)/(self._s*self._vol*sqrt(self._tte))\n"
     ]
    },
    {
     "name": "stdout",
     "output_type": "stream",
     "text": [
      "Completed 340 out of 547\n"
     ]
    },
    {
     "name": "stderr",
     "output_type": "stream",
     "text": [
      "../utils/data_cleaning.py:207: RuntimeWarning: overflow encountered in exp\n",
      "  self._x[\"P_PRICE_interp\"] = np.exp(spline.ev(xi=self._x.lks,yi=self._x.tte))\n",
      "../utils/option_math.py:26: RuntimeWarning: divide by zero encountered in true_divide\n",
      "  d1 = (log(s/k)+(r+vol**2/2.)*tte)/(vol*sqrt(tte))\n",
      "../utils/option_math.py:26: RuntimeWarning: divide by zero encountered in double_scalars\n",
      "  d1 = (log(s/k)+(r+vol**2/2.)*tte)/(vol*sqrt(tte))\n",
      "../utils/opions/european.py:46: RuntimeWarning: invalid value encountered in double_scalars\n",
      "  gamma = norm.pdf(d1) / (self._s * self._vol * sqrt(self._tte))\n",
      "../utils/opions/european.py:102: RuntimeWarning: invalid value encountered in double_scalars\n",
      "  gamma = norm.pdf(d1)/(self._s*self._vol*sqrt(self._tte))\n",
      "../utils/option_math.py:26: RuntimeWarning: divide by zero encountered in true_divide\n",
      "  d1 = (log(s/k)+(r+vol**2/2.)*tte)/(vol*sqrt(tte))\n",
      "../utils/option_math.py:26: RuntimeWarning: divide by zero encountered in double_scalars\n",
      "  d1 = (log(s/k)+(r+vol**2/2.)*tte)/(vol*sqrt(tte))\n",
      "../utils/opions/european.py:46: RuntimeWarning: invalid value encountered in double_scalars\n",
      "  gamma = norm.pdf(d1) / (self._s * self._vol * sqrt(self._tte))\n",
      "../utils/opions/european.py:102: RuntimeWarning: invalid value encountered in double_scalars\n",
      "  gamma = norm.pdf(d1)/(self._s*self._vol*sqrt(self._tte))\n",
      "../utils/option_math.py:26: RuntimeWarning: invalid value encountered in true_divide\n",
      "  d1 = (log(s/k)+(r+vol**2/2.)*tte)/(vol*sqrt(tte))\n",
      "../utils/option_math.py:26: RuntimeWarning: divide by zero encountered in true_divide\n",
      "  d1 = (log(s/k)+(r+vol**2/2.)*tte)/(vol*sqrt(tte))\n",
      "../utils/option_math.py:26: RuntimeWarning: divide by zero encountered in double_scalars\n",
      "  d1 = (log(s/k)+(r+vol**2/2.)*tte)/(vol*sqrt(tte))\n",
      "../utils/opions/european.py:46: RuntimeWarning: invalid value encountered in double_scalars\n",
      "  gamma = norm.pdf(d1) / (self._s * self._vol * sqrt(self._tte))\n",
      "../utils/option_math.py:26: RuntimeWarning: invalid value encountered in true_divide\n",
      "  d1 = (log(s/k)+(r+vol**2/2.)*tte)/(vol*sqrt(tte))\n",
      "../utils/opions/european.py:102: RuntimeWarning: invalid value encountered in double_scalars\n",
      "  gamma = norm.pdf(d1)/(self._s*self._vol*sqrt(self._tte))\n",
      "../utils/option_math.py:26: RuntimeWarning: divide by zero encountered in true_divide\n",
      "  d1 = (log(s/k)+(r+vol**2/2.)*tte)/(vol*sqrt(tte))\n",
      "../utils/option_math.py:26: RuntimeWarning: divide by zero encountered in double_scalars\n",
      "  d1 = (log(s/k)+(r+vol**2/2.)*tte)/(vol*sqrt(tte))\n",
      "../utils/opions/european.py:46: RuntimeWarning: invalid value encountered in double_scalars\n",
      "  gamma = norm.pdf(d1) / (self._s * self._vol * sqrt(self._tte))\n",
      "../utils/option_math.py:26: RuntimeWarning: invalid value encountered in true_divide\n",
      "  d1 = (log(s/k)+(r+vol**2/2.)*tte)/(vol*sqrt(tte))\n",
      "../utils/opions/european.py:102: RuntimeWarning: invalid value encountered in double_scalars\n",
      "  gamma = norm.pdf(d1)/(self._s*self._vol*sqrt(self._tte))\n"
     ]
    },
    {
     "name": "stdout",
     "output_type": "stream",
     "text": [
      "Completed 350 out of 547\n",
      "Completed 360 out of 547\n"
     ]
    },
    {
     "name": "stderr",
     "output_type": "stream",
     "text": [
      "../utils/option_math.py:26: RuntimeWarning: divide by zero encountered in true_divide\n",
      "  d1 = (log(s/k)+(r+vol**2/2.)*tte)/(vol*sqrt(tte))\n",
      "../utils/option_math.py:26: RuntimeWarning: divide by zero encountered in double_scalars\n",
      "  d1 = (log(s/k)+(r+vol**2/2.)*tte)/(vol*sqrt(tte))\n",
      "../utils/opions/european.py:46: RuntimeWarning: invalid value encountered in double_scalars\n",
      "  gamma = norm.pdf(d1) / (self._s * self._vol * sqrt(self._tte))\n",
      "../utils/opions/european.py:102: RuntimeWarning: invalid value encountered in double_scalars\n",
      "  gamma = norm.pdf(d1)/(self._s*self._vol*sqrt(self._tte))\n",
      "../utils/option_math.py:26: RuntimeWarning: invalid value encountered in true_divide\n",
      "  d1 = (log(s/k)+(r+vol**2/2.)*tte)/(vol*sqrt(tte))\n"
     ]
    },
    {
     "name": "stdout",
     "output_type": "stream",
     "text": [
      "Completed 370 out of 547\n",
      "Completed 380 out of 547\n"
     ]
    },
    {
     "name": "stderr",
     "output_type": "stream",
     "text": [
      "../utils/option_math.py:26: RuntimeWarning: divide by zero encountered in true_divide\n",
      "  d1 = (log(s/k)+(r+vol**2/2.)*tte)/(vol*sqrt(tte))\n",
      "../utils/option_math.py:26: RuntimeWarning: divide by zero encountered in double_scalars\n",
      "  d1 = (log(s/k)+(r+vol**2/2.)*tte)/(vol*sqrt(tte))\n",
      "../utils/opions/european.py:46: RuntimeWarning: invalid value encountered in double_scalars\n",
      "  gamma = norm.pdf(d1) / (self._s * self._vol * sqrt(self._tte))\n",
      "../utils/opions/european.py:102: RuntimeWarning: invalid value encountered in double_scalars\n",
      "  gamma = norm.pdf(d1)/(self._s*self._vol*sqrt(self._tte))\n"
     ]
    },
    {
     "name": "stdout",
     "output_type": "stream",
     "text": [
      "Completed 390 out of 547\n"
     ]
    },
    {
     "name": "stderr",
     "output_type": "stream",
     "text": [
      "../utils/option_math.py:26: RuntimeWarning: divide by zero encountered in true_divide\n",
      "  d1 = (log(s/k)+(r+vol**2/2.)*tte)/(vol*sqrt(tte))\n",
      "../utils/option_math.py:26: RuntimeWarning: divide by zero encountered in double_scalars\n",
      "  d1 = (log(s/k)+(r+vol**2/2.)*tte)/(vol*sqrt(tte))\n",
      "../utils/opions/european.py:46: RuntimeWarning: invalid value encountered in double_scalars\n",
      "  gamma = norm.pdf(d1) / (self._s * self._vol * sqrt(self._tte))\n",
      "../utils/opions/european.py:102: RuntimeWarning: invalid value encountered in double_scalars\n",
      "  gamma = norm.pdf(d1)/(self._s*self._vol*sqrt(self._tte))\n"
     ]
    },
    {
     "name": "stdout",
     "output_type": "stream",
     "text": [
      "Completed 400 out of 547\n"
     ]
    },
    {
     "name": "stderr",
     "output_type": "stream",
     "text": [
      "../utils/option_math.py:26: RuntimeWarning: divide by zero encountered in true_divide\n",
      "  d1 = (log(s/k)+(r+vol**2/2.)*tte)/(vol*sqrt(tte))\n",
      "../utils/option_math.py:26: RuntimeWarning: divide by zero encountered in double_scalars\n",
      "  d1 = (log(s/k)+(r+vol**2/2.)*tte)/(vol*sqrt(tte))\n",
      "../utils/opions/european.py:46: RuntimeWarning: invalid value encountered in double_scalars\n",
      "  gamma = norm.pdf(d1) / (self._s * self._vol * sqrt(self._tte))\n",
      "../utils/opions/european.py:102: RuntimeWarning: invalid value encountered in double_scalars\n",
      "  gamma = norm.pdf(d1)/(self._s*self._vol*sqrt(self._tte))\n",
      "../utils/option_math.py:26: RuntimeWarning: divide by zero encountered in true_divide\n",
      "  d1 = (log(s/k)+(r+vol**2/2.)*tte)/(vol*sqrt(tte))\n",
      "../utils/option_math.py:26: RuntimeWarning: divide by zero encountered in double_scalars\n",
      "  d1 = (log(s/k)+(r+vol**2/2.)*tte)/(vol*sqrt(tte))\n",
      "../utils/opions/european.py:46: RuntimeWarning: invalid value encountered in double_scalars\n",
      "  gamma = norm.pdf(d1) / (self._s * self._vol * sqrt(self._tte))\n",
      "../utils/opions/european.py:102: RuntimeWarning: invalid value encountered in double_scalars\n",
      "  gamma = norm.pdf(d1)/(self._s*self._vol*sqrt(self._tte))\n"
     ]
    },
    {
     "name": "stdout",
     "output_type": "stream",
     "text": [
      "Completed 410 out of 547\n"
     ]
    },
    {
     "name": "stderr",
     "output_type": "stream",
     "text": [
      "../utils/option_math.py:26: RuntimeWarning: divide by zero encountered in true_divide\n",
      "  d1 = (log(s/k)+(r+vol**2/2.)*tte)/(vol*sqrt(tte))\n",
      "../utils/option_math.py:26: RuntimeWarning: divide by zero encountered in double_scalars\n",
      "  d1 = (log(s/k)+(r+vol**2/2.)*tte)/(vol*sqrt(tte))\n",
      "../utils/opions/european.py:46: RuntimeWarning: invalid value encountered in double_scalars\n",
      "  gamma = norm.pdf(d1) / (self._s * self._vol * sqrt(self._tte))\n",
      "../utils/opions/european.py:102: RuntimeWarning: invalid value encountered in double_scalars\n",
      "  gamma = norm.pdf(d1)/(self._s*self._vol*sqrt(self._tte))\n"
     ]
    },
    {
     "name": "stdout",
     "output_type": "stream",
     "text": [
      "Completed 420 out of 547\n"
     ]
    },
    {
     "name": "stderr",
     "output_type": "stream",
     "text": [
      "../utils/option_math.py:26: RuntimeWarning: divide by zero encountered in true_divide\n",
      "  d1 = (log(s/k)+(r+vol**2/2.)*tte)/(vol*sqrt(tte))\n",
      "../utils/option_math.py:26: RuntimeWarning: divide by zero encountered in double_scalars\n",
      "  d1 = (log(s/k)+(r+vol**2/2.)*tte)/(vol*sqrt(tte))\n",
      "../utils/opions/european.py:46: RuntimeWarning: invalid value encountered in double_scalars\n",
      "  gamma = norm.pdf(d1) / (self._s * self._vol * sqrt(self._tte))\n",
      "../utils/option_math.py:26: RuntimeWarning: invalid value encountered in true_divide\n",
      "  d1 = (log(s/k)+(r+vol**2/2.)*tte)/(vol*sqrt(tte))\n",
      "../utils/opions/european.py:102: RuntimeWarning: invalid value encountered in double_scalars\n",
      "  gamma = norm.pdf(d1)/(self._s*self._vol*sqrt(self._tte))\n",
      "../utils/option_math.py:26: RuntimeWarning: divide by zero encountered in true_divide\n",
      "  d1 = (log(s/k)+(r+vol**2/2.)*tte)/(vol*sqrt(tte))\n",
      "../utils/option_math.py:26: RuntimeWarning: divide by zero encountered in double_scalars\n",
      "  d1 = (log(s/k)+(r+vol**2/2.)*tte)/(vol*sqrt(tte))\n",
      "../utils/opions/european.py:46: RuntimeWarning: invalid value encountered in double_scalars\n",
      "  gamma = norm.pdf(d1) / (self._s * self._vol * sqrt(self._tte))\n",
      "../utils/option_math.py:26: RuntimeWarning: invalid value encountered in true_divide\n",
      "  d1 = (log(s/k)+(r+vol**2/2.)*tte)/(vol*sqrt(tte))\n",
      "../utils/opions/european.py:102: RuntimeWarning: invalid value encountered in double_scalars\n",
      "  gamma = norm.pdf(d1)/(self._s*self._vol*sqrt(self._tte))\n"
     ]
    },
    {
     "name": "stdout",
     "output_type": "stream",
     "text": [
      "Completed 430 out of 547\n"
     ]
    },
    {
     "name": "stderr",
     "output_type": "stream",
     "text": [
      "../utils/option_math.py:26: RuntimeWarning: divide by zero encountered in true_divide\n",
      "  d1 = (log(s/k)+(r+vol**2/2.)*tte)/(vol*sqrt(tte))\n",
      "../utils/option_math.py:26: RuntimeWarning: divide by zero encountered in double_scalars\n",
      "  d1 = (log(s/k)+(r+vol**2/2.)*tte)/(vol*sqrt(tte))\n",
      "../utils/opions/european.py:46: RuntimeWarning: invalid value encountered in double_scalars\n",
      "  gamma = norm.pdf(d1) / (self._s * self._vol * sqrt(self._tte))\n",
      "../utils/opions/european.py:102: RuntimeWarning: invalid value encountered in double_scalars\n",
      "  gamma = norm.pdf(d1)/(self._s*self._vol*sqrt(self._tte))\n",
      "../utils/option_math.py:26: RuntimeWarning: invalid value encountered in true_divide\n",
      "  d1 = (log(s/k)+(r+vol**2/2.)*tte)/(vol*sqrt(tte))\n"
     ]
    },
    {
     "name": "stdout",
     "output_type": "stream",
     "text": [
      "Completed 440 out of 547\n"
     ]
    },
    {
     "name": "stderr",
     "output_type": "stream",
     "text": [
      "../utils/option_math.py:26: RuntimeWarning: divide by zero encountered in true_divide\n",
      "  d1 = (log(s/k)+(r+vol**2/2.)*tte)/(vol*sqrt(tte))\n",
      "../utils/option_math.py:26: RuntimeWarning: divide by zero encountered in double_scalars\n",
      "  d1 = (log(s/k)+(r+vol**2/2.)*tte)/(vol*sqrt(tte))\n",
      "../utils/opions/european.py:46: RuntimeWarning: invalid value encountered in double_scalars\n",
      "  gamma = norm.pdf(d1) / (self._s * self._vol * sqrt(self._tte))\n",
      "../utils/opions/european.py:102: RuntimeWarning: invalid value encountered in double_scalars\n",
      "  gamma = norm.pdf(d1)/(self._s*self._vol*sqrt(self._tte))\n",
      "../utils/option_math.py:26: RuntimeWarning: invalid value encountered in true_divide\n",
      "  d1 = (log(s/k)+(r+vol**2/2.)*tte)/(vol*sqrt(tte))\n"
     ]
    },
    {
     "name": "stdout",
     "output_type": "stream",
     "text": [
      "Completed 450 out of 547\n"
     ]
    },
    {
     "name": "stderr",
     "output_type": "stream",
     "text": [
      "../utils/option_math.py:26: RuntimeWarning: divide by zero encountered in true_divide\n",
      "  d1 = (log(s/k)+(r+vol**2/2.)*tte)/(vol*sqrt(tte))\n",
      "../utils/option_math.py:26: RuntimeWarning: divide by zero encountered in double_scalars\n",
      "  d1 = (log(s/k)+(r+vol**2/2.)*tte)/(vol*sqrt(tte))\n",
      "../utils/opions/european.py:102: RuntimeWarning: invalid value encountered in double_scalars\n",
      "  gamma = norm.pdf(d1)/(self._s*self._vol*sqrt(self._tte))\n",
      "../utils/opions/european.py:46: RuntimeWarning: invalid value encountered in double_scalars\n",
      "  gamma = norm.pdf(d1) / (self._s * self._vol * sqrt(self._tte))\n"
     ]
    },
    {
     "name": "stdout",
     "output_type": "stream",
     "text": [
      "Completed 460 out of 547\n"
     ]
    },
    {
     "name": "stderr",
     "output_type": "stream",
     "text": [
      "../utils/option_math.py:26: RuntimeWarning: divide by zero encountered in true_divide\n",
      "  d1 = (log(s/k)+(r+vol**2/2.)*tte)/(vol*sqrt(tte))\n",
      "../utils/option_math.py:26: RuntimeWarning: divide by zero encountered in double_scalars\n",
      "  d1 = (log(s/k)+(r+vol**2/2.)*tte)/(vol*sqrt(tte))\n",
      "../utils/opions/european.py:46: RuntimeWarning: invalid value encountered in double_scalars\n",
      "  gamma = norm.pdf(d1) / (self._s * self._vol * sqrt(self._tte))\n",
      "../utils/opions/european.py:102: RuntimeWarning: invalid value encountered in double_scalars\n",
      "  gamma = norm.pdf(d1)/(self._s*self._vol*sqrt(self._tte))\n"
     ]
    },
    {
     "name": "stdout",
     "output_type": "stream",
     "text": [
      "Completed 470 out of 547\n"
     ]
    },
    {
     "name": "stderr",
     "output_type": "stream",
     "text": [
      "../utils/option_math.py:26: RuntimeWarning: divide by zero encountered in true_divide\n",
      "  d1 = (log(s/k)+(r+vol**2/2.)*tte)/(vol*sqrt(tte))\n",
      "../utils/option_math.py:26: RuntimeWarning: divide by zero encountered in double_scalars\n",
      "  d1 = (log(s/k)+(r+vol**2/2.)*tte)/(vol*sqrt(tte))\n",
      "../utils/opions/european.py:46: RuntimeWarning: invalid value encountered in double_scalars\n",
      "  gamma = norm.pdf(d1) / (self._s * self._vol * sqrt(self._tte))\n",
      "../utils/option_math.py:26: RuntimeWarning: invalid value encountered in true_divide\n",
      "  d1 = (log(s/k)+(r+vol**2/2.)*tte)/(vol*sqrt(tte))\n",
      "../utils/opions/european.py:102: RuntimeWarning: invalid value encountered in double_scalars\n",
      "  gamma = norm.pdf(d1)/(self._s*self._vol*sqrt(self._tte))\n"
     ]
    },
    {
     "name": "stdout",
     "output_type": "stream",
     "text": [
      "Completed 480 out of 547\n"
     ]
    },
    {
     "name": "stderr",
     "output_type": "stream",
     "text": [
      "../utils/option_math.py:26: RuntimeWarning: divide by zero encountered in true_divide\n",
      "  d1 = (log(s/k)+(r+vol**2/2.)*tte)/(vol*sqrt(tte))\n",
      "../utils/option_math.py:26: RuntimeWarning: divide by zero encountered in double_scalars\n",
      "  d1 = (log(s/k)+(r+vol**2/2.)*tte)/(vol*sqrt(tte))\n",
      "../utils/opions/european.py:46: RuntimeWarning: invalid value encountered in double_scalars\n",
      "  gamma = norm.pdf(d1) / (self._s * self._vol * sqrt(self._tte))\n",
      "../utils/opions/european.py:102: RuntimeWarning: invalid value encountered in double_scalars\n",
      "  gamma = norm.pdf(d1)/(self._s*self._vol*sqrt(self._tte))\n"
     ]
    },
    {
     "name": "stdout",
     "output_type": "stream",
     "text": [
      "Completed 490 out of 547\n"
     ]
    },
    {
     "name": "stderr",
     "output_type": "stream",
     "text": [
      "../utils/option_math.py:26: RuntimeWarning: divide by zero encountered in true_divide\n",
      "  d1 = (log(s/k)+(r+vol**2/2.)*tte)/(vol*sqrt(tte))\n",
      "../utils/option_math.py:26: RuntimeWarning: divide by zero encountered in double_scalars\n",
      "  d1 = (log(s/k)+(r+vol**2/2.)*tte)/(vol*sqrt(tte))\n",
      "../utils/opions/european.py:102: RuntimeWarning: invalid value encountered in double_scalars\n",
      "  gamma = norm.pdf(d1)/(self._s*self._vol*sqrt(self._tte))\n"
     ]
    },
    {
     "name": "stdout",
     "output_type": "stream",
     "text": [
      "Completed 500 out of 547\n"
     ]
    },
    {
     "name": "stderr",
     "output_type": "stream",
     "text": [
      "../utils/option_math.py:26: RuntimeWarning: divide by zero encountered in true_divide\n",
      "  d1 = (log(s/k)+(r+vol**2/2.)*tte)/(vol*sqrt(tte))\n",
      "../utils/option_math.py:26: RuntimeWarning: divide by zero encountered in double_scalars\n",
      "  d1 = (log(s/k)+(r+vol**2/2.)*tte)/(vol*sqrt(tte))\n",
      "../utils/opions/european.py:46: RuntimeWarning: invalid value encountered in double_scalars\n",
      "  gamma = norm.pdf(d1) / (self._s * self._vol * sqrt(self._tte))\n",
      "../utils/opions/european.py:102: RuntimeWarning: invalid value encountered in double_scalars\n",
      "  gamma = norm.pdf(d1)/(self._s*self._vol*sqrt(self._tte))\n",
      "../utils/option_math.py:26: RuntimeWarning: invalid value encountered in true_divide\n",
      "  d1 = (log(s/k)+(r+vol**2/2.)*tte)/(vol*sqrt(tte))\n",
      "../utils/option_math.py:26: RuntimeWarning: divide by zero encountered in true_divide\n",
      "  d1 = (log(s/k)+(r+vol**2/2.)*tte)/(vol*sqrt(tte))\n",
      "../utils/option_math.py:26: RuntimeWarning: divide by zero encountered in double_scalars\n",
      "  d1 = (log(s/k)+(r+vol**2/2.)*tte)/(vol*sqrt(tte))\n",
      "../utils/opions/european.py:102: RuntimeWarning: invalid value encountered in double_scalars\n",
      "  gamma = norm.pdf(d1)/(self._s*self._vol*sqrt(self._tte))\n",
      "../utils/opions/european.py:46: RuntimeWarning: invalid value encountered in double_scalars\n",
      "  gamma = norm.pdf(d1) / (self._s * self._vol * sqrt(self._tte))\n"
     ]
    },
    {
     "name": "stdout",
     "output_type": "stream",
     "text": [
      "Completed 510 out of 547\n"
     ]
    },
    {
     "name": "stderr",
     "output_type": "stream",
     "text": [
      "../utils/option_math.py:26: RuntimeWarning: divide by zero encountered in true_divide\n",
      "  d1 = (log(s/k)+(r+vol**2/2.)*tte)/(vol*sqrt(tte))\n",
      "../utils/option_math.py:26: RuntimeWarning: divide by zero encountered in double_scalars\n",
      "  d1 = (log(s/k)+(r+vol**2/2.)*tte)/(vol*sqrt(tte))\n",
      "../utils/opions/european.py:46: RuntimeWarning: invalid value encountered in double_scalars\n",
      "  gamma = norm.pdf(d1) / (self._s * self._vol * sqrt(self._tte))\n",
      "../utils/opions/european.py:102: RuntimeWarning: invalid value encountered in double_scalars\n",
      "  gamma = norm.pdf(d1)/(self._s*self._vol*sqrt(self._tte))\n",
      "../utils/option_math.py:26: RuntimeWarning: invalid value encountered in true_divide\n",
      "  d1 = (log(s/k)+(r+vol**2/2.)*tte)/(vol*sqrt(tte))\n"
     ]
    },
    {
     "name": "stdout",
     "output_type": "stream",
     "text": [
      "Completed 520 out of 547\n"
     ]
    },
    {
     "name": "stderr",
     "output_type": "stream",
     "text": [
      "../utils/option_math.py:26: RuntimeWarning: divide by zero encountered in true_divide\n",
      "  d1 = (log(s/k)+(r+vol**2/2.)*tte)/(vol*sqrt(tte))\n",
      "../utils/option_math.py:26: RuntimeWarning: divide by zero encountered in double_scalars\n",
      "  d1 = (log(s/k)+(r+vol**2/2.)*tte)/(vol*sqrt(tte))\n",
      "../utils/opions/european.py:46: RuntimeWarning: invalid value encountered in double_scalars\n",
      "  gamma = norm.pdf(d1) / (self._s * self._vol * sqrt(self._tte))\n",
      "../utils/opions/european.py:102: RuntimeWarning: invalid value encountered in double_scalars\n",
      "  gamma = norm.pdf(d1)/(self._s*self._vol*sqrt(self._tte))\n"
     ]
    },
    {
     "name": "stdout",
     "output_type": "stream",
     "text": [
      "Completed 530 out of 547\n",
      "Completed 540 out of 547\n"
     ]
    }
   ],
   "source": [
    "expiry_files = os.listdir(f\"../data/processed/{SYMBOL}/\")\n",
    "expiry_dates = pd.to_datetime([\n",
    "    file.replace(\".csv\",\"\").replace(\"_\",\"-\") for file in expiry_files\n",
    "])\n",
    "keep_file = expiry_dates<=MAXDATE\n",
    "total = len(expiry_files)\n",
    "clean_files = []\n",
    "failed_files = []\n",
    "\n",
    "for i in range(len(expiry_files)):\n",
    "    if not keep_file[i]:\n",
    "        os.remove(f\"../data/processed/{SYMBOL}/{expiry_files[i]}\")\n",
    "    else:\n",
    "        df = pd.read_csv(f\"../data/processed/{SYMBOL}/{expiry_files[i]}\")\n",
    "        try:\n",
    "            df = cleaner.clean_data(df,expiration=expiry_dates[i])\n",
    "            clean_files.append(expiry_files[i])\n",
    "            df.to_csv(f\"../data/processed/{SYMBOL}/{expiry_files[i]}\")\n",
    "        except:\n",
    "            failed_files.append(expiry_files[i])\n",
    "        if i%10==0:\n",
    "            print(f\"Completed {i} out of {total}\")\n",
    "    gc.collect()        "
   ]
  },
  {
   "cell_type": "code",
   "execution_count": 9,
   "metadata": {},
   "outputs": [
    {
     "name": "stderr",
     "output_type": "stream",
     "text": [
      "../utils/data_cleaning.py:198: RuntimeWarning: divide by zero encountered in log\n",
      "  z=np.log(train.C_PRICE.to_numpy())\n",
      "/home/balbert/Documents/devclub/BEV/venv/lib/python3.7/site-packages/scipy/interpolate/fitpack2.py:1176: UserWarning: \n",
      "The required storage space exceeds the available storage space: nxest\n",
      "or nyest too small, or s too small.\n",
      "The weighted least-squares spline corresponds to the current set of\n",
      "knots.\n",
      "  warnings.warn(message)\n",
      "../utils/data_cleaning.py:205: RuntimeWarning: divide by zero encountered in log\n",
      "  z=np.log(train.P_PRICE.to_numpy())\n",
      "../utils/option_math.py:26: RuntimeWarning: divide by zero encountered in true_divide\n",
      "  d1 = (log(s/k)+(r+vol**2/2.)*tte)/(vol*sqrt(tte))\n",
      "../utils/option_math.py:26: RuntimeWarning: divide by zero encountered in double_scalars\n",
      "  d1 = (log(s/k)+(r+vol**2/2.)*tte)/(vol*sqrt(tte))\n",
      "../utils/opions/european.py:46: RuntimeWarning: invalid value encountered in double_scalars\n",
      "  gamma = norm.pdf(d1) / (self._s * self._vol * sqrt(self._tte))\n",
      "../utils/opions/european.py:102: RuntimeWarning: invalid value encountered in double_scalars\n",
      "  gamma = norm.pdf(d1)/(self._s*self._vol*sqrt(self._tte))\n",
      "../utils/option_math.py:26: RuntimeWarning: invalid value encountered in true_divide\n",
      "  d1 = (log(s/k)+(r+vol**2/2.)*tte)/(vol*sqrt(tte))\n"
     ]
    }
   ],
   "source": [
    "df = pd.read_csv(f\"../data/processed/{SYMBOL}/2020_10_30.csv\")\n",
    "df = cleaner.clean_data(df,expiration=\"2020-10-30\")\n",
    "clean_files.append(expiry_files[i])\n",
    "#            df.to_csv(f\"../data/processed/{SYMBOL}/{expiry_files[i]}\")"
   ]
  },
  {
   "cell_type": "code",
   "execution_count": 7,
   "metadata": {},
   "outputs": [
    {
     "name": "stdout",
     "output_type": "stream",
     "text": [
      "['2020_10_30.csv', '2016_01_22.csv', '2018_04_27.csv', '2022_02_14.csv', '2022_06_15.csv', '2022_06_01.csv', '2018_01_05.csv', '2022_07_05.csv', '2019_02_08.csv', '2016_08_19.csv', '2020_07_02.csv', '2022_05_27.csv', '2019_06_21.csv', '2018_08_03.csv', '2018_11_02.csv', '2022_09_12.csv', '2018_11_23.csv', '2021_07_30.csv', '2020_08_14.csv', '2017_06_02.csv', '2021_10_06.csv', '2017_01_06.csv', '2022_06_24.csv', '2021_06_23.csv', '2020_03_20.csv', '2022_05_25.csv', '2016_09_16.csv', '2021_07_06.csv', '2021_06_28.csv', '2020_09_11.csv', '2020_01_10.csv', '2020_11_06.csv', '2022_02_25.csv', '2016_06_30.csv', '2017_10_27.csv', '2019_06_14.csv', '2019_01_03.csv', '2017_09_29.csv', '2022_04_04.csv', '2016_11_25.csv', '2020_10_09.csv', '2019_07_05.csv', '2021_05_24.csv', '2021_05_10.csv', '2022_07_22.csv', '2018_03_23.csv', '2022_03_04.csv', '2021_10_27.csv', '2020_05_08.csv', '2016_04_15.csv', '2020_12_18.csv', '2021_10_13.csv', '2022_08_26.csv', '2020_05_22.csv', '2022_06_22.csv', '2022_09_02.csv', '2020_08_07.csv', '2021_09_03.csv', '2021_06_14.csv', '2021_11_01.csv', '2022_05_06.csv', '2021_10_01.csv', '2021_10_20.csv', '2022_08_31.csv', '2021_05_05.csv', '2018_10_05.csv', '2021_08_20.csv', '2022_05_18.csv', '2022_08_22.csv', '2019_03_08.csv', '2019_05_31.csv', '2021_10_08.csv', '2022_08_08.csv', '2017_04_21.csv', '2022_04_06.csv', '2019_04_12.csv', '2022_06_08.csv', '2016_11_18.csv', '2019_11_15.csv', '2020_09_25.csv', '2018_05_25.csv', '2017_07_28.csv', '2020_05_29.csv', '2021_08_18.csv', '2021_07_16.csv', '2022_04_25.csv', '2018_10_26.csv', '2022_04_11.csv', '2016_11_04.csv', '2021_07_09.csv', '2021_10_15.csv', '2021_05_03.csv', '2019_12_20.csv', '2018_07_06.csv', '2022_02_23.csv', '2017_08_11.csv', '2019_01_04.csv', '2020_01_24.csv', '2016_07_01.csv', '2019_08_30.csv', '2016_09_09.csv', '2017_12_15.csv', '2016_01_08.csv', '2020_11_27.csv', '2019_06_07.csv', '2022_05_09.csv', '2022_03_23.csv', '2020_08_28.csv', '2016_09_02.csv', '2019_03_22.csv', '2019_12_31.csv', '2016_02_19.csv', '2017_08_18.csv', '2017_03_03.csv', '2021_08_04.csv', '2021_01_15.csv', '2022_09_28.csv', '2020_06_30.csv', '2018_08_24.csv', '2018_09_20.csv', '2022_08_15.csv', '2019_11_08.csv', '2016_05_06.csv', '2021_10_11.csv', '2020_04_17.csv', '2019_04_05.csv', '2016_08_05.csv', '2017_04_13.csv', '2017_02_24.csv', '2022_03_02.csv', '2021_10_22.csv', '2017_06_30.csv', '2016_09_30.csv', '2021_09_07.csv', '2022_07_01.csv', '2021_04_30.csv', '2020_09_18.csv', '2022_04_14.csv', '2022_08_29.csv', '2019_08_02.csv', '2019_12_13.csv', '2018_09_14.csv', '2018_12_14.csv', '2018_12_21.csv', '2021_08_16.csv', '2022_03_28.csv', '2021_07_23.csv', '2022_02_07.csv', '2021_06_01.csv', '2017_08_25.csv', '2022_06_10.csv', '2021_04_09.csv', '2017_07_21.csv', '2021_09_29.csv', '2021_09_27.csv', '2019_09_30.csv', '2016_06_10.csv', '2018_10_19.csv', '2022_08_10.csv', '2018_02_02.csv', '2020_10_02.csv', '2018_11_09.csv', '2019_10_25.csv', '2021_07_28.csv', '2022_07_11.csv', '2019_06_28.csv', '2021_09_15.csv', '2021_09_13.csv', '2021_02_05.csv', '2017_02_03.csv', '2016_04_01.csv', '2020_10_23.csv', '2022_05_23.csv', '2017_05_26.csv', '2022_08_03.csv', '2020_07_10.csv', '2016_10_21.csv', '2021_01_22.csv', '2021_03_26.csv', '2020_05_15.csv', '2022_08_19.csv', '2018_08_10.csv', '2019_01_11.csv', '2021_09_01.csv', '2018_04_20.csv', '2020_04_03.csv', '2016_02_12.csv', '2020_03_27.csv', '2020_01_03.csv', '2020_06_19.csv', '2018_05_18.csv', '2017_11_17.csv', '2022_07_18.csv', '2016_10_07.csv', '2019_03_01.csv', '2016_01_29.csv', '2018_06_08.csv', '2020_02_14.csv', '2019_07_19.csv', '2016_07_29.csv', '2022_07_27.csv', '2018_12_20.csv', '2020_06_26.csv', '2021_08_13.csv', '2022_02_16.csv', '2022_09_07.csv', '2020_06_05.csv', '2019_04_18.csv', '2016_04_22.csv', '2021_08_09.csv', '2021_06_30.csv', '2018_06_15.csv', '2016_08_26.csv', '2021_11_03.csv', '2022_06_21.csv', '2020_02_07.csv', '2016_06_17.csv', '2019_10_18.csv', '2022_09_26.csv', '2020_06_12.csv', '2016_10_28.csv', '2020_09_30.csv', '2021_07_07.csv', '2022_07_20.csv', '2016_12_23.csv', '2018_07_27.csv', '2021_08_23.csv', '2021_04_23.csv', '2022_04_01.csv', '2022_02_22.csv', '2022_02_09.csv', '2022_08_01.csv', '2019_03_15.csv', '2019_06_06.csv', '2017_06_09.csv', '2017_09_22.csv', '2017_01_27.csv', '2021_06_04.csv', '2022_05_02.csv', '2021_03_31.csv', '2018_08_17.csv', '2022_09_23.csv', '2019_05_24.csv', '2019_11_22.csv', '2018_07_20.csv', '2022_07_25.csv', '2019_05_17.csv', '2018_01_19.csv', '2022_06_13.csv', '2019_01_31.csv', '2018_01_12.csv', '2016_04_08.csv', '2022_06_27.csv', '2021_09_17.csv', '2016_07_15.csv', '2018_09_21.csv', '2022_05_13.csv', '2020_02_21.csv', '2018_02_16.csv', '2022_06_06.csv', '2016_10_14.csv', '2022_05_11.csv', '2016_07_08.csv', '2021_06_18.csv', '2016_09_23.csv', '2017_06_23.csv', '2022_03_16.csv', '2021_09_08.csv', '2019_05_02.csv', '2019_07_26.csv', '2016_01_15.csv', '2019_05_03.csv', '2017_12_29.csv', '2017_01_13.csv', '2021_09_30.csv', '2022_08_12.csv', '2016_05_27.csv', '2016_03_31.csv', '2019_02_15.csv', '2020_09_04.csv', '2022_03_30.csv', '2019_08_09.csv', '2022_03_11.csv', '2018_09_07.csv', '2017_05_19.csv', '2018_12_31.csv', '2020_12_11.csv', '2016_08_12.csv', '2021_05_07.csv', '2021_09_20.csv', '2022_03_07.csv', '2019_09_20.csv', '2020_07_17.csv', '2022_02_28.csv', '2021_07_19.csv', '2022_05_20.csv', '2022_04_18.csv', '2020_12_31.csv', '2021_07_12.csv', '2016_06_24.csv', '2022_09_21.csv', '2021_10_04.csv', '2018_12_27.csv', '2017_02_10.csv', '2021_05_26.csv', '2020_07_24.csv', '2022_04_22.csv', '2021_06_09.csv', '2018_09_28.csv', '2019_11_01.csv', '2018_04_13.csv', '2021_03_19.csv', '2022_04_29.csv', '2016_12_16.csv', '2019_01_25.csv', '2017_07_07.csv', '2018_05_04.csv', '2018_08_31.csv', '2021_02_12.csv', '2022_05_31.csv', '2016_02_05.csv', '2016_11_11.csv', '2017_11_03.csv', '2016_05_20.csv', '2022_09_19.csv', '2016_12_09.csv', '2021_07_14.csv', '2022_05_04.csv', '2021_09_22.csv', '2021_06_25.csv', '2017_10_13.csv', '2021_05_12.csv', '2022_06_03.csv', '2021_08_27.csv', '2017_06_16.csv', '2022_04_27.csv', '2021_04_01.csv', '2017_02_17.csv', '2021_09_24.csv', '2017_03_17.csv', '2018_06_29.csv', '2018_06_22.csv', '2017_01_20.csv', '2017_11_24.csv', '2021_08_06.csv', '2016_12_30.csv', '2022_03_25.csv', '2017_09_08.csv', '2022_03_09.csv', '2022_07_06.csv', '2021_08_11.csv', '2018_02_09.csv', '2021_03_12.csv', '2019_05_10.csv', '2021_06_16.csv', '2021_01_29.csv', '2021_06_21.csv', '2018_01_26.csv', '2016_05_13.csv', '2019_05_23.csv', '2020_07_31.csv', '2018_11_16.csv', '2021_01_08.csv', '2021_10_18.csv', '2019_08_16.csv', '2017_03_24.csv', '2018_02_23.csv', '2022_09_09.csv', '2016_12_02.csv', '2016_03_24.csv', '2022_07_15.csv', '2022_07_13.csv', '2017_04_28.csv', '2022_08_05.csv', '2019_10_11.csv', '2021_07_02.csv', '2021_10_25.csv', '2019_09_13.csv', '2019_02_22.csv', '2018_03_02.csv', '2018_03_09.csv', '2018_03_29.csv', '2022_08_24.csv', '2022_09_14.csv', '2017_05_05.csv', '2019_11_29.csv', '2020_11_13.csv', '2016_03_04.csv', '2021_06_02.csv', '2016_02_26.csv', '2019_01_18.csv', '2017_03_31.csv', '2019_07_12.csv', '2021_10_29.csv', '2020_02_28.csv', '2020_04_24.csv', '2016_04_29.csv', '2021_05_21.csv', '2020_12_04.csv', '2021_04_16.csv', '2020_04_09.csv', '2017_08_04.csv', '2018_04_06.csv', '2021_07_21.csv', '2019_02_01.csv', '2021_02_19.csv', '2020_05_01.csv', '2017_04_07.csv', '2021_05_28.csv', '2021_06_11.csv', '2022_04_20.csv', '2020_03_06.csv', '2018_05_11.csv', '2019_10_04.csv', '2017_10_06.csv', '2021_06_07.csv', '2020_08_21.csv', '2017_07_14.csv', '2016_07_22.csv', '2019_01_24.csv', '2021_05_17.csv', '2019_01_10.csv', '2022_04_13.csv', '2018_07_13.csv', '2020_11_20.csv', '2022_03_14.csv', '2017_11_10.csv', '2021_03_05.csv', '2019_04_26.csv', '2022_07_08.csv', '2021_05_19.csv', '2021_08_30.csv', '2021_05_14.csv', '2017_10_20.csv', '2020_03_31.csv', '2016_06_03.csv', '2017_09_01.csv', '2021_08_02.csv', '2022_07_29.csv', '2017_12_08.csv', '2017_03_10.csv', '2022_04_08.csv', '2022_08_17.csv', '2021_09_10.csv', '2020_10_16.csv', '2018_12_28.csv', '2018_06_01.csv', '2022_09_06.csv', '2016_03_11.csv', '2022_05_16.csv', '2019_03_29.csv', '2017_12_22.csv', '2019_12_06.csv', '2019_09_27.csv', '2018_11_30.csv', '2020_03_13.csv', '2018_12_07.csv', '2019_09_06.csv', '2019_08_23.csv', '2022_06_29.csv', '2020_01_17.csv', '2021_02_26.csv', '2018_10_12.csv', '2018_03_16.csv', '2019_12_27.csv', '2017_12_01.csv', '2020_01_31.csv', '2021_08_25.csv', '2020_12_24.csv', '2022_03_21.csv', '2017_05_12.csv', '2017_09_15.csv', '2016_03_18.csv', '2021_07_26.csv']\n"
     ]
    }
   ],
   "source": [
    "print(failed_files)"
   ]
  }
 ],
 "metadata": {
  "interpreter": {
   "hash": "339feae55b6bafb28b8adb33f102518d48d9ac07735f43844b6c0760588bd157"
  },
  "kernelspec": {
   "display_name": "Python 3.7.6 ('venv': virtualenv)",
   "language": "python",
   "name": "python3"
  },
  "language_info": {
   "codemirror_mode": {
    "name": "ipython",
    "version": 3
   },
   "file_extension": ".py",
   "mimetype": "text/x-python",
   "name": "python",
   "nbconvert_exporter": "python",
   "pygments_lexer": "ipython3",
   "version": "3.7.6"
  },
  "orig_nbformat": 4
 },
 "nbformat": 4,
 "nbformat_minor": 2
}
