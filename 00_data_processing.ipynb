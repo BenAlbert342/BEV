{
 "cells": [
  {
   "cell_type": "code",
   "execution_count": null,
   "metadata": {},
   "outputs": [],
   "source": [
    "import pandas as pd \n",
    "import os\n",
    "import numpy as np\n",
    "\n",
    "SYMBOL = \"qqq\"\n",
    "\n",
    "data_dirs = os.listdir(f\"../data/{SYMBOL}/\")\n",
    "data_dirs"
   ]
  },
  {
   "cell_type": "markdown",
   "metadata": {},
   "source": [
    "## Variables to Keep"
   ]
  },
  {
   "cell_type": "code",
   "execution_count": null,
   "metadata": {},
   "outputs": [],
   "source": [
    "VARIABLES = [\n",
    "    \"QUOTE_DATE\",\n",
    "    \"QUOTE_TIME_HOURS\",\n",
    "    \"UNDERLYING_LAST\",\n",
    "    \"EXPIRE_DATE\",\n",
    "    \"DTE\",\n",
    "    \"STRIKE\",\n",
    "    \"C_IV\",\n",
    "    \"C_LAST\",\n",
    "    \"C_SIZE\",\n",
    "    \"C_BID\", \n",
    "    \"C_ASK\",\n",
    "    \"C_VOLUME\",\n",
    "    \"C_DELTA\",\n",
    "    \"C_GAMMA\", \n",
    "    \"C_VEGA\",\n",
    "    \"C_THETA\", \n",
    "    \"C_RHO\",\n",
    "    \"P_IV\",\n",
    "    \"P_LAST\",\n",
    "    \"P_SIZE\",\n",
    "    \"P_BID\", \n",
    "    \"P_ASK\",\n",
    "    \"P_VOLUME\",\n",
    "    \"P_DELTA\",\n",
    "    \"P_GAMMA\", \n",
    "    \"P_VEGA\",\n",
    "    \"P_THETA\", \n",
    "    \"P_RHO\"\n",
    "] "
   ]
  },
  {
   "cell_type": "markdown",
   "metadata": {},
   "source": [
    "## Concatinating Data Files"
   ]
  },
  {
   "cell_type": "code",
   "execution_count": null,
   "metadata": {},
   "outputs": [],
   "source": [
    "df = pd.DataFrame()\n",
    "for d in data_dirs:\n",
    "    data_files = os.listdir(f\"../data/{SYMBOL}/{d}\")\n",
    "    for file in data_files:\n",
    "        tmp = pd.read_csv(f\"../data/{SYMBOL}/{d}/{file}\")\n",
    "        tmp.columns = tmp.columns.str.replace('[','').str.replace(']','').str.strip()\n",
    "        tmp = tmp[VARIABLES]\n",
    "        df = pd.concat([df,tmp],axis=0)\n",
    "    _ = np.where(np.asarray(data_dirs)==d)[0][0]\n",
    "    print(f\"Compelted folder {_} of {len(data_dirs)}\")"
   ]
  },
  {
   "cell_type": "code",
   "execution_count": null,
   "metadata": {},
   "outputs": [],
   "source": [
    "print(df.shape)\n",
    "df.head()"
   ]
  },
  {
   "cell_type": "markdown",
   "metadata": {},
   "source": [
    "## Converting Feilds to Numeric"
   ]
  },
  {
   "cell_type": "code",
   "execution_count": null,
   "metadata": {},
   "outputs": [],
   "source": [
    "# Calls\n",
    "df.C_IV = pd.to_numeric(df.C_IV,errors='coerce')\n",
    "df.C_LAST = pd.to_numeric(df.C_LAST,errors='coerce')\n",
    "df.C_BID = pd.to_numeric(df.C_BID,errors='coerce')\n",
    "df.C_ASK = pd.to_numeric(df.C_ASK,errors='coerce')\n",
    "df.C_VOLUME = pd.to_numeric(df.C_VOLUME,errors='coerce')\n",
    "df.C_DELTA = pd.to_numeric(df.C_DELTA, errors='coerce')\n",
    "df.C_GAMMA = pd.to_numeric(df.C_GAMMA, errors='coerce')\n",
    "df.C_VEGA = pd.to_numeric(df.C_VEGA, errors='coerce')\n",
    "df.C_THETA = pd.to_numeric(df.C_THETA, errors='coerce')\n",
    "df.C_RHO = pd.to_numeric(df.C_RHO, errors='coerce')\n",
    "# Puts\n",
    "df.P_IV = pd.to_numeric(df.P_IV,errors='coerce')\n",
    "df.P_LAST = pd.to_numeric(df.P_LAST,errors='coerce')\n",
    "df.P_BID = pd.to_numeric(df.P_BID,errors='coerce')\n",
    "df.P_ASK = pd.to_numeric(df.P_ASK,errors='coerce')\n",
    "df.P_VOLUME = pd.to_numeric(df.P_VOLUME,errors='coerce')\n",
    "df.P_DELTA = pd.to_numeric(df.P_DELTA, errors='coerce')\n",
    "df.P_GAMMA = pd.to_numeric(df.P_GAMMA, errors='coerce')\n",
    "df.P_VEGA = pd.to_numeric(df.P_VEGA, errors='coerce')\n",
    "df.P_THETA = pd.to_numeric(df.P_THETA, errors='coerce')\n",
    "df.P_RHO = pd.to_numeric(df.P_RHO, errors='coerce')"
   ]
  },
  {
   "cell_type": "code",
   "execution_count": null,
   "metadata": {},
   "outputs": [],
   "source": [
    "df.head()"
   ]
  },
  {
   "cell_type": "markdown",
   "metadata": {},
   "source": [
    "## Sorting DF"
   ]
  },
  {
   "cell_type": "code",
   "execution_count": null,
   "metadata": {},
   "outputs": [],
   "source": [
    "df = df.sort_values([\"EXPIRE_DATE\",\"STRIKE\",\"QUOTE_DATE\",\"QUOTE_TIME_HOURS\"])\n",
    "df.head()"
   ]
  },
  {
   "cell_type": "code",
   "execution_count": null,
   "metadata": {},
   "outputs": [],
   "source": [
    "df.describe()"
   ]
  },
  {
   "cell_type": "code",
   "execution_count": null,
   "metadata": {},
   "outputs": [],
   "source": [
    "df.to_csv(f\"../data/raw/{SYMBOL}.csv\")"
   ]
  },
  {
   "cell_type": "markdown",
   "metadata": {},
   "source": [
    "## Saving Surface files "
   ]
  },
  {
   "cell_type": "code",
   "execution_count": null,
   "metadata": {},
   "outputs": [],
   "source": [
    "df = pd.read_csv(f\"../data/raw/{SYMBOL}.csv\")\n",
    "dates = df.QUOTE_DATE.unique()\n",
    "df.head()"
   ]
  },
  {
   "cell_type": "code",
   "execution_count": null,
   "metadata": {},
   "outputs": [],
   "source": [
    "i = 0\n",
    "total = len(dates)\n",
    "for date in dates:\n",
    "    tmp = df[df.QUOTE_DATE==' 2016-01-04']\n",
    "    tmp = tmp[VARIABLES]\n",
    "    output_file = f\"../data/surf_files/{SYMBOL}/{date.replace(' ','').replace('-','_')}.csv\"\n",
    "    tmp.to_csv(\n",
    "        output_file,\n",
    "        index=False\n",
    "    )\n",
    "    df.drop(tmp.index,axis=0)\n",
    "    if (i+1)%10==0:\n",
    "        print(f\"Completed {i+1} out of {total}\")\n",
    "    i+=1"
   ]
  },
  {
   "cell_type": "code",
   "execution_count": null,
   "metadata": {},
   "outputs": [],
   "source": []
  }
 ],
 "metadata": {
  "interpreter": {
   "hash": "767d51c1340bd893661ea55ea3124f6de3c7a262a8b4abca0554b478b1e2ff90"
  },
  "kernelspec": {
   "display_name": "Python 2.7.17 64-bit",
   "language": "python",
   "name": "python3"
  },
  "language_info": {
   "codemirror_mode": {
    "name": "ipython",
    "version": 3
   },
   "file_extension": ".py",
   "mimetype": "text/x-python",
   "name": "python",
   "nbconvert_exporter": "python",
   "pygments_lexer": "ipython3",
   "version": "3.7.6"
  },
  "orig_nbformat": 4
 },
 "nbformat": 4,
 "nbformat_minor": 2
}
