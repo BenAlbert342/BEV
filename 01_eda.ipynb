{
 "cells": [
  {
   "cell_type": "code",
   "execution_count": null,
   "metadata": {},
   "outputs": [],
   "source": [
    "import pandas as pd\n",
    "import plotly.express as px\n",
    "import sys\n",
    "sys.path.append('../')\n",
    "\n",
    "from utils.underlying import ETF\n",
    "from utils.opions.european import (\n",
    "    EuropeanCall,\n",
    "    EuropeanPut,\n",
    "    EuropeanOption\n",
    ")\n",
    "\n",
    "df = pd.read_csv(\"../data/raw/qqq.csv\")\n",
    "underlying_price = pd.read_csv(\"../data/raw/qqq_underlying.csv\")\n",
    "underlying_price = pd.Series(\n",
    "    underlying_price[[\"0\"]].values.flatten(),\n",
    "    index=underlying_price[[\"Unnamed: 0\"]].values.flatten()\n",
    ")\n",
    "\n",
    "df.QUOTE_DATE = pd.to_datetime(df.QUOTE_DATE)\n",
    "df = df[df.QUOTE_DATE>\"2022-01-01\"].reset_index(drop=True)\n",
    "print(df.shape)\n",
    "df.head()"
   ]
  },
  {
   "cell_type": "code",
   "execution_count": null,
   "metadata": {},
   "outputs": [],
   "source": [
    "df.QUOTE_DATE.max()"
   ]
  },
  {
   "cell_type": "markdown",
   "metadata": {},
   "source": [
    "## Underlying Price\n",
    "\n",
    "### Initalize ETF Class"
   ]
  },
  {
   "cell_type": "code",
   "execution_count": null,
   "metadata": {},
   "outputs": [],
   "source": [
    "qqq = ETF(\n",
    "    prices=underlying_price,\n",
    "    sym=\"QQQ\"\n",
    ")\n",
    "underlying_data = qqq.analyze_index_prices()\n",
    "underlying_data.head()"
   ]
  },
  {
   "cell_type": "markdown",
   "metadata": {},
   "source": [
    "### Underlying Price Time Series "
   ]
  },
  {
   "cell_type": "code",
   "execution_count": null,
   "metadata": {},
   "outputs": [],
   "source": [
    "qqq.plot_price()"
   ]
  },
  {
   "cell_type": "markdown",
   "metadata": {},
   "source": [
    "### Returns "
   ]
  },
  {
   "cell_type": "code",
   "execution_count": null,
   "metadata": {},
   "outputs": [],
   "source": [
    "qqq.plot_returns()"
   ]
  },
  {
   "cell_type": "markdown",
   "metadata": {},
   "source": [
    "### 30 Day Annualized Realized Volatility"
   ]
  },
  {
   "cell_type": "code",
   "execution_count": null,
   "metadata": {},
   "outputs": [],
   "source": [
    "qqq.plot_realized_volatility()"
   ]
  },
  {
   "cell_type": "markdown",
   "metadata": {},
   "source": [
    "## Options Data\n",
    "\n",
    "### Call Data"
   ]
  },
  {
   "cell_type": "code",
   "execution_count": null,
   "metadata": {},
   "outputs": [],
   "source": [
    "df_calls = df[[\"QUOTE_DATE\",\"UNDERLYING_LAST\",\"EXPIRE_DATE\",\"DTE\",\"STRIKE\",\"C_IV\",\"C_LAST\",\"C_BID\",\"C_ASK\",\"C_DELTA\"]]\n",
    "df_calls = df_calls[df_calls.DTE>0]\n",
    "df_calls.head()"
   ]
  },
  {
   "cell_type": "markdown",
   "metadata": {},
   "source": [
    "#### Bid Ask Spread & Last Price "
   ]
  },
  {
   "cell_type": "code",
   "execution_count": null,
   "metadata": {},
   "outputs": [],
   "source": [
    "df_calls[\"In_ba_spread\"] =  (df_calls.C_BID < df_calls.C_LAST) & (df_calls.C_LAST < df_calls.C_ASK)\n",
    "tmp = df_calls[[\"C_DELTA\",\"In_ba_spread\"]]\n",
    "tmp.C_DELTA = tmp.C_DELTA.round(2)\n",
    "tmp = tmp.groupby(\"C_DELTA\").mean().reset_index()\n",
    "fig = px.scatter(\n",
    "    tmp,\n",
    "    x=\"C_DELTA\",\n",
    "    y=\"In_ba_spread\",\n",
    "    template=\"simple_white\"\n",
    ")\n",
    "fig.show()"
   ]
  },
  {
   "cell_type": "markdown",
   "metadata": {},
   "source": [
    "#### Distribution of DTE"
   ]
  },
  {
   "cell_type": "code",
   "execution_count": null,
   "metadata": {},
   "outputs": [],
   "source": [
    "print(df_calls.DTE.describe())\n",
    "fig = px.histogram(\n",
    "    df_calls,\n",
    "    x=\"DTE\",\n",
    "    template=\"simple_white\"\n",
    ")\n",
    "fig.show()"
   ]
  },
  {
   "cell_type": "markdown",
   "metadata": {},
   "source": [
    "#### Distribution of IV"
   ]
  },
  {
   "cell_type": "code",
   "execution_count": null,
   "metadata": {},
   "outputs": [],
   "source": [
    "print(df_calls.C_IV.describe())\n",
    "fig = px.histogram(\n",
    "    df_calls,\n",
    "    x=\"C_IV\",\n",
    "    template=\"simple_white\"\n",
    ")\n",
    "fig.show()"
   ]
  },
  {
   "cell_type": "markdown",
   "metadata": {},
   "source": [
    "#### IV & DTE"
   ]
  },
  {
   "cell_type": "code",
   "execution_count": null,
   "metadata": {},
   "outputs": [],
   "source": [
    "tmp = df[[\"DTE\",\"C_IV\"]].groupby(\"DTE\").agg({\"C_IV\": [\"mean\",\"std\"]}).reset_index()\n",
    "tmp.columns = [\"DTE\",\"IV_Mean\",\"sigma\"]\n",
    "tmp[\"PlusOneSigma\"] = tmp.IV_Mean + tmp.sigma\n",
    "tmp[\"MinusOneSigma\"] = tmp.IV_Mean - tmp.sigma\n",
    "fig = px.line(\n",
    "    tmp,\n",
    "    x=\"DTE\",\n",
    "    y=[\"IV_Mean\",\"PlusOneSigma\",\"MinusOneSigma\"],\n",
    "    template=\"simple_white\"\n",
    ")\n",
    "fig.show()"
   ]
  },
  {
   "cell_type": "markdown",
   "metadata": {},
   "source": [
    "#### Missing IV and DTE"
   ]
  },
  {
   "cell_type": "code",
   "execution_count": null,
   "metadata": {},
   "outputs": [],
   "source": [
    "tmp = df[[\"DTE\",\"C_IV\"]]\n",
    "tmp.C_IV = tmp.C_IV.isna()\n",
    "tmp = tmp.groupby(\"DTE\").mean().reset_index()\n",
    "fig = px.scatter(\n",
    "    tmp,\n",
    "    x=\"DTE\",\n",
    "    y=\"C_IV\",\n",
    "    template=\"simple_white\"\n",
    ")\n",
    "fig.show()"
   ]
  },
  {
   "cell_type": "markdown",
   "metadata": {},
   "source": [
    "### Put Data"
   ]
  },
  {
   "cell_type": "code",
   "execution_count": null,
   "metadata": {},
   "outputs": [],
   "source": [
    "df_puts = df[[\"QUOTE_DATE\",\"UNDERLYING_LAST\",\"EXPIRE_DATE\",\"DTE\",\"STRIKE\",\"P_IV\",\"P_LAST\",\"P_BID\",\"P_ASK\",\"P_DELTA\"]]\n",
    "df_puts = df_puts[df_puts.DTE>0]\n",
    "df_puts.head()"
   ]
  },
  {
   "cell_type": "markdown",
   "metadata": {},
   "source": [
    "#### Bid Ask Spread & Last Price "
   ]
  },
  {
   "cell_type": "code",
   "execution_count": null,
   "metadata": {},
   "outputs": [],
   "source": [
    "df_puts[\"In_ba_spread\"] =  (df_puts.P_BID < df_puts.P_LAST) & (df_puts.P_LAST < df_puts.P_ASK)\n",
    "tmp = df_puts[[\"P_DELTA\",\"In_ba_spread\"]]\n",
    "tmp.P_DELTA = tmp.P_DELTA.round(2)\n",
    "tmp = tmp.groupby(\"P_DELTA\").mean().reset_index()\n",
    "fig = px.scatter(\n",
    "    tmp,\n",
    "    x=\"P_DELTA\",\n",
    "    y=\"In_ba_spread\",\n",
    "    template=\"simple_white\"\n",
    ")\n",
    "fig.show()"
   ]
  },
  {
   "cell_type": "markdown",
   "metadata": {},
   "source": [
    "#### Distribution of DTE"
   ]
  },
  {
   "cell_type": "code",
   "execution_count": null,
   "metadata": {},
   "outputs": [],
   "source": [
    "print(df_puts.DTE.describe())\n",
    "fig = px.histogram(\n",
    "    df_puts,\n",
    "    x=\"DTE\",\n",
    "    template=\"simple_white\"\n",
    ")\n",
    "fig.show()"
   ]
  },
  {
   "cell_type": "markdown",
   "metadata": {},
   "source": [
    "#### Distribution of IV"
   ]
  },
  {
   "cell_type": "code",
   "execution_count": null,
   "metadata": {},
   "outputs": [],
   "source": [
    "print(df_puts.P_IV.describe())\n",
    "fig = px.histogram(\n",
    "    df_puts,\n",
    "    x=\"P_IV\",\n",
    "    template=\"simple_white\"\n",
    ")\n",
    "fig.show()"
   ]
  },
  {
   "cell_type": "markdown",
   "metadata": {},
   "source": [
    "#### IV & DTE"
   ]
  },
  {
   "cell_type": "code",
   "execution_count": null,
   "metadata": {},
   "outputs": [],
   "source": [
    "tmp = df_puts[[\"DTE\",\"P_IV\"]].groupby(\"DTE\").agg({\"P_IV\": [\"mean\",\"std\"]}).reset_index()\n",
    "tmp.columns = [\"DTE\",\"IV_Mean\",\"sigma\"]\n",
    "tmp[\"PlusOneSigma\"] = tmp.IV_Mean + tmp.sigma\n",
    "tmp[\"MinusOneSigma\"] = tmp.IV_Mean - tmp.sigma\n",
    "fig = px.line(\n",
    "    tmp,\n",
    "    x=\"DTE\",\n",
    "    y=[\"IV_Mean\",\"PlusOneSigma\",\"MinusOneSigma\"],\n",
    "    template=\"simple_white\"\n",
    ")\n",
    "fig.show()"
   ]
  },
  {
   "cell_type": "markdown",
   "metadata": {},
   "source": [
    "#### Missing IV and DTE"
   ]
  },
  {
   "cell_type": "code",
   "execution_count": null,
   "metadata": {},
   "outputs": [],
   "source": [
    "tmp = df[[\"DTE\",\"P_IV\"]]\n",
    "tmp.P_IV = tmp.P_IV.isna()\n",
    "tmp = tmp.groupby(\"DTE\").mean().reset_index()\n",
    "fig = px.scatter(\n",
    "    tmp,\n",
    "    x=\"DTE\",\n",
    "    y=\"P_IV\",\n",
    "    template=\"simple_white\"\n",
    ")\n",
    "fig.show()"
   ]
  }
 ],
 "metadata": {
  "interpreter": {
   "hash": "339feae55b6bafb28b8adb33f102518d48d9ac07735f43844b6c0760588bd157"
  },
  "kernelspec": {
   "display_name": "Python 3.7.6 ('venv': virtualenv)",
   "language": "python",
   "name": "python3"
  },
  "language_info": {
   "codemirror_mode": {
    "name": "ipython",
    "version": 3
   },
   "file_extension": ".py",
   "mimetype": "text/x-python",
   "name": "python",
   "nbconvert_exporter": "python",
   "pygments_lexer": "ipython3",
   "version": "3.7.6"
  },
  "orig_nbformat": 4
 },
 "nbformat": 4,
 "nbformat_minor": 2
}
